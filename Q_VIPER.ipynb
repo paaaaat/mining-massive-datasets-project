{
  "nbformat": 4,
  "nbformat_minor": 0,
  "metadata": {
    "colab": {
      "provenance": [],
      "authorship_tag": "ABX9TyNL+8eGwgSgEtuW51VwvZ67",
      "include_colab_link": true
    },
    "kernelspec": {
      "name": "python3",
      "display_name": "Python 3"
    },
    "language_info": {
      "name": "python"
    }
  },
  "cells": [
    {
      "cell_type": "markdown",
      "metadata": {
        "id": "view-in-github",
        "colab_type": "text"
      },
      "source": [
        "<a href=\"https://colab.research.google.com/github/paaaaat/mining-massive-datasets-project/blob/main/Q_VIPER_Patrick_Hamzaj_VR474246.ipynb\" target=\"_parent\"><img src=\"https://colab.research.google.com/assets/colab-badge.svg\" alt=\"Open In Colab\"/></a>"
      ]
    },
    {
      "cell_type": "markdown",
      "source": [
        "# **Q-VIPER: Quantitative Vertical Bitwise Algorithm to Mine Frequent Patterns**\n",
        "<hr />"
      ],
      "metadata": {
        "id": "bNyiz8ZMKNX5"
      }
    },
    {
      "cell_type": "markdown",
      "source": [
        "Frequent pattern mining aims to discover frequently occurring sets of items from big data. Given a series of transactions containing a set of items, frequent pattern mining seeks to determine the sets of items, which occur in many transactions. Frequent patterns can be discovered horizontally by transaction-centric mining algorithms or vertically by item-centric mining algorithms. Regardless of their mining direction, traditional frequent pattern mining algorithms aim to discover boolean patterns in the sense that patterns capture the presence (or absence) of items within the discovered patterns (e.g. A-Priori algorithm). However, there are many real-life situations in which quantities of items within the patterns are important. For example, the quantity of items may affect profits of selling the items, Hence, Q-VIPER is a quantitative vertical bitwise algorithm to mine frequent patterns representing the big data as a collection of bitmaps. Each item-centric bitmap captures the presence (or absence) of a transaction containing the item, as well as the quantity in each transaction. With this representation, this algorithm then vertically mines quantitative frequent patterns.\n",
        "<hr />"
      ],
      "metadata": {
        "id": "n9-xVub2LYZ_"
      }
    },
    {
      "cell_type": "markdown",
      "source": [
        "## Downloading the datasets"
      ],
      "metadata": {
        "id": "thTI-lcYPXIO"
      }
    },
    {
      "cell_type": "code",
      "source": [
        "# we get the two datasets from the FIMI Repository (University of Antwerpen)\n",
        "!wget http://fimi.uantwerpen.be/data/chess.dat.gz\n",
        "!wget http://fimi.uantwerpen.be/data/mushroom.dat.gz\n",
        "\n",
        "# we extract the two datasets\n",
        "!gzip -d chess.dat.gz\n",
        "!gzip -d mushroom.dat.gz"
      ],
      "metadata": {
        "colab": {
          "base_uri": "https://localhost:8080/"
        },
        "id": "Y6I5fuTgWIUU",
        "outputId": "01348abb-d35d-48fa-ce66-93f268256643"
      },
      "execution_count": null,
      "outputs": [
        {
          "output_type": "stream",
          "name": "stdout",
          "text": [
            "--2024-01-04 10:41:51--  http://fimi.uantwerpen.be/data/chess.dat.gz\n",
            "Resolving fimi.uantwerpen.be (fimi.uantwerpen.be)... 143.129.69.1\n",
            "Connecting to fimi.uantwerpen.be (fimi.uantwerpen.be)|143.129.69.1|:80... connected.\n",
            "HTTP request sent, awaiting response... 200 OK\n",
            "Length: 14253 (14K) [application/x-gzip]\n",
            "Saving to: ‘chess.dat.gz’\n",
            "\n",
            "chess.dat.gz        100%[===================>]  13.92K  --.-KB/s    in 0.1s    \n",
            "\n",
            "2024-01-04 10:41:52 (135 KB/s) - ‘chess.dat.gz’ saved [14253/14253]\n",
            "\n",
            "--2024-01-04 10:41:52--  http://fimi.uantwerpen.be/data/mushroom.dat.gz\n",
            "Resolving fimi.uantwerpen.be (fimi.uantwerpen.be)... 143.129.69.1\n",
            "Connecting to fimi.uantwerpen.be (fimi.uantwerpen.be)|143.129.69.1|:80... connected.\n",
            "HTTP request sent, awaiting response... 200 OK\n",
            "Length: 34370 (34K) [application/x-gzip]\n",
            "Saving to: ‘mushroom.dat.gz’\n",
            "\n",
            "mushroom.dat.gz     100%[===================>]  33.56K  --.-KB/s    in 0.1s    \n",
            "\n",
            "2024-01-04 10:41:52 (294 KB/s) - ‘mushroom.dat.gz’ saved [34370/34370]\n",
            "\n"
          ]
        }
      ]
    },
    {
      "cell_type": "markdown",
      "source": [
        "## Loading the dependencies"
      ],
      "metadata": {
        "id": "hiMR-iEEPQJF"
      }
    },
    {
      "cell_type": "code",
      "source": [
        "# import the necessary libraries\n",
        "import time\n",
        "import numpy as np\n",
        "import matplotlib.pyplot as plt\n",
        "from itertools import combinations\n",
        "from collections import defaultdict"
      ],
      "metadata": {
        "id": "hzAteGF-W5rQ"
      },
      "execution_count": null,
      "outputs": []
    },
    {
      "cell_type": "code",
      "source": [
        "chess_path = 'chess.dat'\n",
        "mushroom_path = 'mushroom.dat'"
      ],
      "metadata": {
        "id": "tOI7GYKbPq5e"
      },
      "execution_count": null,
      "outputs": []
    },
    {
      "cell_type": "markdown",
      "source": [
        "## Creating the necessary functions"
      ],
      "metadata": {
        "id": "2g1kfm7ZPbN1"
      }
    },
    {
      "cell_type": "code",
      "source": [
        "# load the data, reading each line and appending as a list of lists\n",
        "def load_data(file_path):\n",
        "    with open(file_path) as f:\n",
        "        raw_lines = f.read().splitlines()\n",
        "\n",
        "    return [[int(x) for x in line.split()] for line in raw_lines]"
      ],
      "metadata": {
        "id": "Akz1SqyyPJV1"
      },
      "execution_count": null,
      "outputs": []
    },
    {
      "cell_type": "code",
      "source": [
        "# we modify the datasets to contain pairsets of (item, quantity) adding a quantity that follows a Poisson distribution + 1\n",
        "def create_poisson_dataset(dataset):\n",
        "    len_lines = len(dataset[0])\n",
        "    # Poisson distribution + 1\n",
        "    poisson = np.random.poisson(lam=1.0, size=len_lines) + 1\n",
        "    dataset_poisson = []\n",
        "    for row in dataset:\n",
        "        dataset_poisson.append([(item, quantity) for item, quantity in zip(row, poisson)])\n",
        "\n",
        "    return dataset_poisson"
      ],
      "metadata": {
        "id": "IWp30mRfPW5m"
      },
      "execution_count": null,
      "outputs": []
    },
    {
      "cell_type": "code",
      "source": [
        "# from the transation-centric dataset we modify it to become an item-centric dataset (vertical representation)\n",
        "def create_vertical_dataset(data):\n",
        "    vertical_data = defaultdict(list)\n",
        "    for transaction_number, line in enumerate(data):\n",
        "        for item, quantity in line:\n",
        "            vertical_data[item].append((transaction_number, quantity))\n",
        "\n",
        "    return vertical_data"
      ],
      "metadata": {
        "id": "kiSerT0yvGr2"
      },
      "execution_count": null,
      "outputs": []
    },
    {
      "cell_type": "code",
      "source": [
        "# creating a bitmap of each itemexpressionset, with a length of the original dataset (so that we count every possible transaction)\n",
        "def create_bitmap(vertical_dataset, candidates):\n",
        "    bitmap = {}\n",
        "    # the lookup dict serves whenever we must compute the operation of the itemexpressionset,\n",
        "    # as every itemexpression is of the form (item [int], operator [string], quantity [int])\n",
        "    lookup_operator = {'<=': np.less_equal, '>=': np.greater_equal, '==': np.equal}\n",
        "    # we count the length of the dataset (how many transactions) to build the bitmap\n",
        "    count = set()\n",
        "    for values in vertical_dataset.values():\n",
        "        count.update(pairset[0] for pairset in values)\n",
        "\n",
        "    len_dataset = len(count)\n",
        "    for itemexpset in candidates:\n",
        "        item, operator, item_quantity = itemexpset[0]\n",
        "        # we take the list containing all the (transaction, quantity) pairs from the vertical\n",
        "        # dataset in order to evaluate the bit for that itemexp to be true for that specifc transaction\n",
        "        transaction_quantity_pairsets = vertical_dataset[item]\n",
        "        itemexp_bitmap = np.zeros(len_dataset, dtype=int)\n",
        "        operation_result = lookup_operator[operator]\n",
        "        # since each transaction is an integer spanning from 0 to len(dataset), we can\n",
        "        # use it as the index of the bitmap\n",
        "        for transaction_id, transaction_quantity in transaction_quantity_pairsets:\n",
        "            itemexp_bitmap[transaction_id] = 1 if operation_result(transaction_quantity, item_quantity) else 0\n",
        "\n",
        "        bitmap[itemexpset] = itemexp_bitmap\n",
        "\n",
        "    del count\n",
        "    return bitmap"
      ],
      "metadata": {
        "id": "E9RTxwzUvJrb"
      },
      "execution_count": null,
      "outputs": []
    },
    {
      "cell_type": "code",
      "source": [
        "# util function to compute the support of an itemexpression, summing (counting) the 1-bits\n",
        "def compute_support(candidates, bitmap):\n",
        "    return {item: np.sum(bitmap[item]) for item in candidates}"
      ],
      "metadata": {
        "id": "KXK7-3PVvLQn"
      },
      "execution_count": null,
      "outputs": []
    },
    {
      "cell_type": "code",
      "source": [
        "def prune_itemsets(L, support):\n",
        "    # we use set data typea as it is faster for lookup operations\n",
        "    to_delete_indices = set()\n",
        "    for i, itemset_i in enumerate(L):\n",
        "        # if the index of the first itemexpset to compare is already\n",
        "        # labeled as to be deleted, continue\n",
        "        if i in to_delete_indices: continue\n",
        "\n",
        "        for j, itemset_j in enumerate(L[i + 1:], start=i + 1):\n",
        "            # if the index of the second itemexpset to compare is already\n",
        "            # labeled as to be deleted, continue\n",
        "            if j in to_delete_indices: continue\n",
        "\n",
        "            # if the tow itemexpsets do not have the same support, continue\n",
        "            if support[itemset_i] != support[itemset_j]: continue\n",
        "\n",
        "            # here we use sets as they can provide easily the different elements\n",
        "            # between two itemexpsets with the symmetric_difference() method\n",
        "            set_i, set_j = set(itemset_i), set(itemset_j)\n",
        "            symmetric_diff = set_i.symmetric_difference(set_j)\n",
        "\n",
        "            # if the number of different elements is different from 2,\n",
        "            # the pruning rules do not apply\n",
        "            if len(symmetric_diff) == 2:\n",
        "                exp1 = symmetric_diff.pop()\n",
        "                exp2 = symmetric_diff.pop()\n",
        "                op1 = exp1[1]\n",
        "                # the pruning rules apply only for '<=' and '>=' operations\n",
        "                if op1 == '==' or exp1[:-1] != exp2[:-1]: continue\n",
        "\n",
        "                to_delete = exp1 if (op1 == '>=' and exp1[2] < exp2[2]) or (op1 == '<=' and exp1[2] > exp2[2]) else exp2\n",
        "                to_prune = i if to_delete in set_i else j\n",
        "                to_delete_indices.add(to_prune)\n",
        "\n",
        "    to_delete_indices = sorted(to_delete_indices)\n",
        "    # we eliminate the itemexpsets from L which have their indexes labeled\n",
        "    L_new = []\n",
        "    for index, itemset in enumerate(L):\n",
        "        if index not in to_delete_indices:\n",
        "            L_new.append(itemset)\n",
        "\n",
        "    L.clear()\n",
        "    L.extend(L_new)\n",
        "    del to_delete_indices"
      ],
      "metadata": {
        "id": "_huR-cLqvP5-"
      },
      "execution_count": null,
      "outputs": []
    },
    {
      "cell_type": "code",
      "source": [
        "# candidates generation for k>=2\n",
        "def generate_candidates(L):\n",
        "    candidates = []\n",
        "\n",
        "    for i, itemset_i in enumerate(L):\n",
        "        for j, itemset_j in enumerate(L[i + 1:], start=i + 1):\n",
        "            # if the first k-1 elements of both itemexpsets to compare are equal,\n",
        "            # and the item of the last itemexp is different, we can proceed and\n",
        "            # generate a new candidate composed by the first k-1 elements and the\n",
        "            # last element of both itemexpsets\n",
        "            if itemset_i[:-1] == itemset_j[:-1] and itemset_i[-1][0] != itemset_j[-1][0]:\n",
        "                candidate = itemset_i + (itemset_j[-1],)\n",
        "                n = len(candidate) - 1\n",
        "                # we must check if all subsets of the newly created candidate\n",
        "                # are frequent, so we generate combinations of the itemexpressions\n",
        "                # of length k-1\n",
        "                combs = combinations(candidate, n)\n",
        "\n",
        "                # if all the subsets are frequent, we can definitely consider it\n",
        "                # a candidate itemexpressionset\n",
        "                if (all(comb in L for comb in combs)):\n",
        "                    candidates.append(candidate)\n",
        "\n",
        "    return candidates"
      ],
      "metadata": {
        "id": "RSD5F1g8vRdm"
      },
      "execution_count": null,
      "outputs": []
    },
    {
      "cell_type": "code",
      "source": [
        "# we compute the bitmap for k>=2\n",
        "def compute_bitmap(Ck, bitmap):\n",
        "    bitmap_k = {}\n",
        "    for itemset in Ck:\n",
        "        # we break the candidate into three elements:\n",
        "        # W, which is teh candidate of length k-2\n",
        "        # y, the second to last item\n",
        "        # x, the last item\n",
        "        w = itemset[:-2]\n",
        "        y = (itemset[-2],)\n",
        "        z = (itemset[-1],)\n",
        "        # in this way we can compute the bitmap more efficiently\n",
        "        w_y = w + y\n",
        "        w_z = w + z\n",
        "        bitmap_itemset = [bitmap[w_y], bitmap[w_z]]\n",
        "        # we compute the dot product of the two bitmaps\n",
        "        prod_bitmap_itemset = np.prod(bitmap_itemset, axis=0)\n",
        "        bitmap_k[itemset] = prod_bitmap_itemset\n",
        "\n",
        "    return bitmap_k"
      ],
      "metadata": {
        "id": "1_PoBphzvTI8"
      },
      "execution_count": null,
      "outputs": []
    },
    {
      "cell_type": "markdown",
      "source": [
        "## Q-VIPER Algorithm"
      ],
      "metadata": {
        "id": "VVbmJMjaO7N-"
      }
    },
    {
      "cell_type": "code",
      "execution_count": null,
      "metadata": {
        "id": "JKX7z3_6WDUP"
      },
      "outputs": [],
      "source": [
        "def Q_VIPER(vertical_data, minsup):\n",
        "    C1 = []\n",
        "    # we generate every possibile candidate for C1\n",
        "    for item, transaction_quantity_pairset in vertical_data.items():\n",
        "        # item_max[element] equals the maximum quantity an item reaches through\n",
        "        # every transaction it is in\n",
        "        item_max = max(element[1] for element in transaction_quantity_pairset)\n",
        "        for quantity in range(1, item_max + 1):\n",
        "            # we create tuples of singleton tuples as they avoid conflict in the main loop\n",
        "            # for computing support and pruning itemsets\n",
        "            C1.append(((item, '==', quantity),))\n",
        "            C1.append(((item, '>=', quantity),))\n",
        "            C1.append(((item, '<=', quantity),))\n",
        "\n",
        "    bitmap = create_bitmap(vertical_data, C1)\n",
        "    support = compute_support(C1, bitmap)\n",
        "    # L1 comprises elements in C1 with support greater or equal than minsup\n",
        "    L1 = [itemset for itemset in C1 if support[itemset] >= minsup]\n",
        "    prune_itemsets(L1, support)\n",
        "    # we keep track of the truly frequent itemexpsets\n",
        "    frequent_itemexpsets = [L1]\n",
        "    # now we set k=2 in order to dive into the main loop\n",
        "    k = 2\n",
        "    Lk = L1.copy()\n",
        "    # while Lk is not empty, execute the main loop\n",
        "    while Lk:\n",
        "        # when Lk is empty, the candidate generation returns an error\n",
        "        try:\n",
        "            Ck = generate_candidates(Lk)\n",
        "        except IndexError:\n",
        "            return\n",
        "        bitmap = compute_bitmap(Ck, bitmap)\n",
        "        support = compute_support(Ck, bitmap)\n",
        "        Lk = [itemset for itemset in Ck if support[itemset] >= minsup]\n",
        "        prune_itemsets(Lk, support)\n",
        "        frequent_itemexpsets.append(Lk)\n",
        "        # we increase k and continue the loop\n",
        "        k += 1\n",
        "\n",
        "    return frequent_itemexpsets"
      ]
    },
    {
      "cell_type": "markdown",
      "source": [
        "## Experiment"
      ],
      "metadata": {
        "id": "icroY-4oPCne"
      }
    },
    {
      "cell_type": "code",
      "source": [
        "# function to run the experiment for both datasets and relative minsup values\n",
        "def experiment(file, minsup):\n",
        "    dataset = load_data(file)\n",
        "    dataset_poisson = create_poisson_dataset(dataset)\n",
        "    vertical_data = create_vertical_dataset(dataset_poisson)\n",
        "    # we keep track of the runtime related to every minsup\n",
        "    runtime = []\n",
        "    frequent_itemexpsets = {}\n",
        "    for sup in minsup:\n",
        "        start = time.time()\n",
        "        # frequent itemexpsets to keep track for every minsup\n",
        "        freq = Q_VIPER(vertical_data, sup)\n",
        "        end = time.time()\n",
        "        # 'y' will be the runtime\n",
        "        y = end - start\n",
        "        runtime.append(y)\n",
        "        frequent_itemexpsets[sup] = freq\n",
        "\n",
        "    return runtime, frequent_itemexpsets"
      ],
      "metadata": {
        "id": "xkkKYIuNSM4r"
      },
      "execution_count": null,
      "outputs": []
    },
    {
      "cell_type": "code",
      "source": [
        "# each dataset is tested with different values of minsup\n",
        "chess_minsup = [i for i in range(2950, 3071, 10)]\n",
        "mushroom_minsup = [i for i in range(4200, 7001, 200)]\n",
        "\n",
        "# we run the experiments\n",
        "chess_runtime, chess_frequent = experiment(chess_path, chess_minsup)\n",
        "mushroom_runtime, mushroom_frequent = experiment(mushroom_path, mushroom_minsup)"
      ],
      "metadata": {
        "id": "iN15qCCcTLwK"
      },
      "execution_count": null,
      "outputs": []
    },
    {
      "cell_type": "markdown",
      "source": [
        "## Visualization and Results"
      ],
      "metadata": {
        "id": "R0sborgVPF6I"
      }
    },
    {
      "cell_type": "code",
      "source": [
        "plt.figure(figsize=(15, 3.5))\n",
        "\n",
        "# chess dataset plot\n",
        "plt.subplot(1, 2, 1)\n",
        "plt.plot(chess_minsup, chess_runtime, marker='o', color='#ec7e32')\n",
        "plt.yticks([0, 50, 100, 150])\n",
        "plt.xticks([i for i in range(2950, 3071, 20)])\n",
        "plt.xlabel('minsup', labelpad=5)\n",
        "plt.ylabel('Runtime (seconds)', labelpad=5)\n",
        "plt.tick_params(axis='both', which='both', pad=5)\n",
        "plt.ylim(0, 150)\n",
        "plt.xlim(left=chess_minsup[0], right=chess_minsup[-1])\n",
        "plt.grid(True, alpha=0.5)\n",
        "plt.legend(['Q-VIPER'])\n",
        "plt.title('Chess')\n",
        "\n",
        "# mushroom dataset plot\n",
        "plt.subplot(1, 2, 2)\n",
        "plt.plot(mushroom_minsup, mushroom_runtime, marker='o', color='#ec7e32')\n",
        "plt.yticks([i for i in range(0, 151, 25)])\n",
        "plt.xticks([i for i in range(4200, 7001, 400)])\n",
        "plt.xlabel('minsup', labelpad=5)\n",
        "plt.ylabel('Runtime (seconds)', labelpad=5)\n",
        "plt.tick_params(axis='both', which='both', pad=5)\n",
        "plt.ylim(0, 150)\n",
        "plt.xlim(left=mushroom_minsup[0], right=mushroom_minsup[-1])\n",
        "plt.grid(True, alpha=0.5)\n",
        "plt.legend(['Q-VIPER'])\n",
        "plt.title('Mushroom')\n",
        "\n",
        "plt.show()"
      ],
      "metadata": {
        "colab": {
          "base_uri": "https://localhost:8080/",
          "height": 375
        },
        "id": "h7CL1dCaTEVq",
        "outputId": "139e81f6-7c2b-4c18-bef7-346fceb4db8a"
      },
      "execution_count": null,
      "outputs": [
        {
          "output_type": "display_data",
          "data": {
            "text/plain": [
              "<Figure size 1500x350 with 2 Axes>"
            ],
            "image/png": "[encoded data removed]"
          },
          "metadata": {}
        }
      ]
    },
    {
      "cell_type": "code",
      "source": [
        "print('Chess Dataset')\n",
        "print('--------------------')\n",
        "for minsup, frequent_itemexpsets in chess_frequent.items():\n",
        "    print(f'Frequent itemexpsets with minsup={minsup}:')\n",
        "    for i, exp in enumerate(frequent_itemexpsets):\n",
        "        print(f'There are {len(exp)} frequent itemexpsets with k={i+1}.')\n",
        "\n",
        "    print('\\n')"
      ],
      "metadata": {
        "colab": {
          "base_uri": "https://localhost:8080/"
        },
        "id": "VNyo_vciczKK",
        "outputId": "51ca9637-b634-40f1-c2f8-b868244d2545"
      },
      "execution_count": null,
      "outputs": [
        {
          "output_type": "stream",
          "name": "stdout",
          "text": [
            "Chess Dataset\n",
            "--------------------\n",
            "Frequent itemexpsets with minsup=2950:\n",
            "There are 39 frequent itemexpsets with k=1.\n",
            "There are 468 frequent itemexpsets with k=2.\n",
            "There are 2538 frequent itemexpsets with k=3.\n",
            "There are 6723 frequent itemexpsets with k=4.\n",
            "There are 7776 frequent itemexpsets with k=5.\n",
            "There are 3645 frequent itemexpsets with k=6.\n",
            "There are 0 frequent itemexpsets with k=7.\n",
            "\n",
            "\n",
            "Frequent itemexpsets with minsup=2960:\n",
            "There are 39 frequent itemexpsets with k=1.\n",
            "There are 459 frequent itemexpsets with k=2.\n",
            "There are 2403 frequent itemexpsets with k=3.\n",
            "There are 6156 frequent itemexpsets with k=4.\n",
            "There are 7533 frequent itemexpsets with k=5.\n",
            "There are 2916 frequent itemexpsets with k=6.\n",
            "There are 0 frequent itemexpsets with k=7.\n",
            "\n",
            "\n",
            "Frequent itemexpsets with minsup=2970:\n",
            "There are 39 frequent itemexpsets with k=1.\n",
            "There are 432 frequent itemexpsets with k=2.\n",
            "There are 2187 frequent itemexpsets with k=3.\n",
            "There are 5265 frequent itemexpsets with k=4.\n",
            "There are 5832 frequent itemexpsets with k=5.\n",
            "There are 2916 frequent itemexpsets with k=6.\n",
            "There are 0 frequent itemexpsets with k=7.\n",
            "\n",
            "\n",
            "Frequent itemexpsets with minsup=2980:\n",
            "There are 36 frequent itemexpsets with k=1.\n",
            "There are 405 frequent itemexpsets with k=2.\n",
            "There are 1917 frequent itemexpsets with k=3.\n",
            "There are 4455 frequent itemexpsets with k=4.\n",
            "There are 4860 frequent itemexpsets with k=5.\n",
            "There are 1458 frequent itemexpsets with k=6.\n",
            "There are 0 frequent itemexpsets with k=7.\n",
            "\n",
            "\n",
            "Frequent itemexpsets with minsup=2990:\n",
            "There are 36 frequent itemexpsets with k=1.\n",
            "There are 378 frequent itemexpsets with k=2.\n",
            "There are 1701 frequent itemexpsets with k=3.\n",
            "There are 3645 frequent itemexpsets with k=4.\n",
            "There are 3402 frequent itemexpsets with k=5.\n",
            "There are 729 frequent itemexpsets with k=6.\n",
            "There are 0 frequent itemexpsets with k=7.\n",
            "\n",
            "\n",
            "Frequent itemexpsets with minsup=3000:\n",
            "There are 36 frequent itemexpsets with k=1.\n",
            "There are 342 frequent itemexpsets with k=2.\n",
            "There are 1485 frequent itemexpsets with k=3.\n",
            "There are 3078 frequent itemexpsets with k=4.\n",
            "There are 2673 frequent itemexpsets with k=5.\n",
            "There are 729 frequent itemexpsets with k=6.\n",
            "There are 0 frequent itemexpsets with k=7.\n",
            "\n",
            "\n",
            "Frequent itemexpsets with minsup=3010:\n",
            "There are 36 frequent itemexpsets with k=1.\n",
            "There are 324 frequent itemexpsets with k=2.\n",
            "There are 1242 frequent itemexpsets with k=3.\n",
            "There are 2349 frequent itemexpsets with k=4.\n",
            "There are 1944 frequent itemexpsets with k=5.\n",
            "There are 0 frequent itemexpsets with k=6.\n",
            "\n",
            "\n",
            "Frequent itemexpsets with minsup=3020:\n",
            "There are 33 frequent itemexpsets with k=1.\n",
            "There are 270 frequent itemexpsets with k=2.\n",
            "There are 1053 frequent itemexpsets with k=3.\n",
            "There are 1782 frequent itemexpsets with k=4.\n",
            "There are 972 frequent itemexpsets with k=5.\n",
            "There are 0 frequent itemexpsets with k=6.\n",
            "\n",
            "\n",
            "Frequent itemexpsets with minsup=3030:\n",
            "There are 27 frequent itemexpsets with k=1.\n",
            "There are 243 frequent itemexpsets with k=2.\n",
            "There are 918 frequent itemexpsets with k=3.\n",
            "There are 1458 frequent itemexpsets with k=4.\n",
            "There are 729 frequent itemexpsets with k=5.\n",
            "There are 0 frequent itemexpsets with k=6.\n",
            "\n",
            "\n",
            "Frequent itemexpsets with minsup=3040:\n",
            "There are 27 frequent itemexpsets with k=1.\n",
            "There are 207 frequent itemexpsets with k=2.\n",
            "There are 702 frequent itemexpsets with k=3.\n",
            "There are 972 frequent itemexpsets with k=4.\n",
            "There are 486 frequent itemexpsets with k=5.\n",
            "There are 0 frequent itemexpsets with k=6.\n",
            "\n",
            "\n",
            "Frequent itemexpsets with minsup=3050:\n",
            "There are 24 frequent itemexpsets with k=1.\n",
            "There are 180 frequent itemexpsets with k=2.\n",
            "There are 540 frequent itemexpsets with k=3.\n",
            "There are 729 frequent itemexpsets with k=4.\n",
            "There are 243 frequent itemexpsets with k=5.\n",
            "There are 0 frequent itemexpsets with k=6.\n",
            "\n",
            "\n",
            "Frequent itemexpsets with minsup=3060:\n",
            "There are 24 frequent itemexpsets with k=1.\n",
            "There are 162 frequent itemexpsets with k=2.\n",
            "There are 459 frequent itemexpsets with k=3.\n",
            "There are 567 frequent itemexpsets with k=4.\n",
            "There are 243 frequent itemexpsets with k=5.\n",
            "There are 0 frequent itemexpsets with k=6.\n",
            "\n",
            "\n",
            "Frequent itemexpsets with minsup=3070:\n",
            "There are 21 frequent itemexpsets with k=1.\n",
            "There are 135 frequent itemexpsets with k=2.\n",
            "There are 378 frequent itemexpsets with k=3.\n",
            "There are 486 frequent itemexpsets with k=4.\n",
            "There are 243 frequent itemexpsets with k=5.\n",
            "There are 0 frequent itemexpsets with k=6.\n",
            "\n",
            "\n"
          ]
        }
      ]
    },
    {
      "cell_type": "code",
      "source": [
        "print('Mushroom Dataset')\n",
        "print('--------------------')\n",
        "for minsup, frequent_itemexpsets in mushroom_frequent.items():\n",
        "    print(f'Frequent itemexpsets with minsup={minsup}:')\n",
        "    for i, exp in enumerate(frequent_itemexpsets):\n",
        "        print(f'There are {len(exp)} frequent itemexpsets with k={i+1}.')\n",
        "\n",
        "    print('\\n')"
      ],
      "metadata": {
        "colab": {
          "base_uri": "https://localhost:8080/"
        },
        "id": "CI3EOGldjN2a",
        "outputId": "8af0bb98-c144-4a61-ec90-333504071528"
      },
      "execution_count": null,
      "outputs": [
        {
          "output_type": "stream",
          "name": "stdout",
          "text": [
            "Mushroom Dataset\n",
            "--------------------\n",
            "Frequent itemexpsets with minsup=4200:\n",
            "There are 39 frequent itemexpsets with k=1.\n",
            "There are 351 frequent itemexpsets with k=2.\n",
            "There are 1431 frequent itemexpsets with k=3.\n",
            "There are 2754 frequent itemexpsets with k=4.\n",
            "There are 1944 frequent itemexpsets with k=5.\n",
            "There are 0 frequent itemexpsets with k=6.\n",
            "\n",
            "\n",
            "Frequent itemexpsets with minsup=4400:\n",
            "There are 33 frequent itemexpsets with k=1.\n",
            "There are 315 frequent itemexpsets with k=2.\n",
            "There are 1107 frequent itemexpsets with k=3.\n",
            "There are 1620 frequent itemexpsets with k=4.\n",
            "There are 972 frequent itemexpsets with k=5.\n",
            "There are 0 frequent itemexpsets with k=6.\n",
            "\n",
            "\n",
            "Frequent itemexpsets with minsup=4600:\n",
            "There are 30 frequent itemexpsets with k=1.\n",
            "There are 234 frequent itemexpsets with k=2.\n",
            "There are 783 frequent itemexpsets with k=3.\n",
            "There are 1215 frequent itemexpsets with k=4.\n",
            "There are 729 frequent itemexpsets with k=5.\n",
            "There are 0 frequent itemexpsets with k=6.\n",
            "\n",
            "\n",
            "Frequent itemexpsets with minsup=4800:\n",
            "There are 24 frequent itemexpsets with k=1.\n",
            "There are 162 frequent itemexpsets with k=2.\n",
            "There are 459 frequent itemexpsets with k=3.\n",
            "There are 567 frequent itemexpsets with k=4.\n",
            "There are 243 frequent itemexpsets with k=5.\n",
            "There are 0 frequent itemexpsets with k=6.\n",
            "\n",
            "\n",
            "Frequent itemexpsets with minsup=5000:\n",
            "There are 21 frequent itemexpsets with k=1.\n",
            "There are 126 frequent itemexpsets with k=2.\n",
            "There are 351 frequent itemexpsets with k=3.\n",
            "There are 486 frequent itemexpsets with k=4.\n",
            "There are 243 frequent itemexpsets with k=5.\n",
            "There are 0 frequent itemexpsets with k=6.\n",
            "\n",
            "\n",
            "Frequent itemexpsets with minsup=5200:\n",
            "There are 18 frequent itemexpsets with k=1.\n",
            "There are 117 frequent itemexpsets with k=2.\n",
            "There are 351 frequent itemexpsets with k=3.\n",
            "There are 486 frequent itemexpsets with k=4.\n",
            "There are 243 frequent itemexpsets with k=5.\n",
            "There are 0 frequent itemexpsets with k=6.\n",
            "\n",
            "\n",
            "Frequent itemexpsets with minsup=5400:\n",
            "There are 18 frequent itemexpsets with k=1.\n",
            "There are 117 frequent itemexpsets with k=2.\n",
            "There are 351 frequent itemexpsets with k=3.\n",
            "There are 486 frequent itemexpsets with k=4.\n",
            "There are 243 frequent itemexpsets with k=5.\n",
            "There are 0 frequent itemexpsets with k=6.\n",
            "\n",
            "\n",
            "Frequent itemexpsets with minsup=5600:\n",
            "There are 18 frequent itemexpsets with k=1.\n",
            "There are 99 frequent itemexpsets with k=2.\n",
            "There are 270 frequent itemexpsets with k=3.\n",
            "There are 405 frequent itemexpsets with k=4.\n",
            "There are 243 frequent itemexpsets with k=5.\n",
            "There are 0 frequent itemexpsets with k=6.\n",
            "\n",
            "\n",
            "Frequent itemexpsets with minsup=5800:\n",
            "There are 15 frequent itemexpsets with k=1.\n",
            "There are 90 frequent itemexpsets with k=2.\n",
            "There are 270 frequent itemexpsets with k=3.\n",
            "There are 405 frequent itemexpsets with k=4.\n",
            "There are 243 frequent itemexpsets with k=5.\n",
            "There are 0 frequent itemexpsets with k=6.\n",
            "\n",
            "\n",
            "Frequent itemexpsets with minsup=6000:\n",
            "There are 15 frequent itemexpsets with k=1.\n",
            "There are 90 frequent itemexpsets with k=2.\n",
            "There are 270 frequent itemexpsets with k=3.\n",
            "There are 405 frequent itemexpsets with k=4.\n",
            "There are 243 frequent itemexpsets with k=5.\n",
            "There are 0 frequent itemexpsets with k=6.\n",
            "\n",
            "\n",
            "Frequent itemexpsets with minsup=6200:\n",
            "There are 15 frequent itemexpsets with k=1.\n",
            "There are 90 frequent itemexpsets with k=2.\n",
            "There are 270 frequent itemexpsets with k=3.\n",
            "There are 405 frequent itemexpsets with k=4.\n",
            "There are 243 frequent itemexpsets with k=5.\n",
            "There are 0 frequent itemexpsets with k=6.\n",
            "\n",
            "\n",
            "Frequent itemexpsets with minsup=6400:\n",
            "There are 15 frequent itemexpsets with k=1.\n",
            "There are 90 frequent itemexpsets with k=2.\n",
            "There are 216 frequent itemexpsets with k=3.\n",
            "There are 162 frequent itemexpsets with k=4.\n",
            "There are 0 frequent itemexpsets with k=5.\n",
            "\n",
            "\n",
            "Frequent itemexpsets with minsup=6600:\n",
            "There are 15 frequent itemexpsets with k=1.\n",
            "There are 81 frequent itemexpsets with k=2.\n",
            "There are 189 frequent itemexpsets with k=3.\n",
            "There are 162 frequent itemexpsets with k=4.\n",
            "There are 0 frequent itemexpsets with k=5.\n",
            "\n",
            "\n",
            "Frequent itemexpsets with minsup=6800:\n",
            "There are 15 frequent itemexpsets with k=1.\n",
            "There are 63 frequent itemexpsets with k=2.\n",
            "There are 108 frequent itemexpsets with k=3.\n",
            "There are 81 frequent itemexpsets with k=4.\n",
            "There are 0 frequent itemexpsets with k=5.\n",
            "\n",
            "\n",
            "Frequent itemexpsets with minsup=7000:\n",
            "There are 12 frequent itemexpsets with k=1.\n",
            "There are 54 frequent itemexpsets with k=2.\n",
            "There are 108 frequent itemexpsets with k=3.\n",
            "There are 81 frequent itemexpsets with k=4.\n",
            "There are 0 frequent itemexpsets with k=5.\n",
            "\n",
            "\n"
          ]
        }
      ]
    }
  ]
}
